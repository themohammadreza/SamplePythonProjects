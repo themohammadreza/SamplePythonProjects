{
 "cells": [
  {
   "cell_type": "code",
   "execution_count": 16,
   "metadata": {},
   "outputs": [
    {
     "name": "stdout",
     "output_type": "stream",
     "text": [
      "Welcome to Python file reading.\n",
      "\n",
      "This is the second line.\n",
      "\n",
      "Here is the third line.\n",
      "\n",
      "End of the file.\n"
     ]
    }
   ],
   "source": [
    "path = input(\"give me your file path: \")\n",
    "\n",
    "while True:\n",
    "    try:\n",
    "        for line in open(path, 'r'):\n",
    "            print(line)\n",
    "        break\n",
    "    except:\n",
    "        print(\"something went wrong! please \")\n",
    "        path = input(\"give me your file path: \")"
   ]
  },
  {
   "cell_type": "code",
   "execution_count": null,
   "metadata": {},
   "outputs": [],
   "source": []
  }
 ],
 "metadata": {
  "kernelspec": {
   "display_name": "projects",
   "language": "python",
   "name": "python3"
  },
  "language_info": {
   "codemirror_mode": {
    "name": "ipython",
    "version": 3
   },
   "file_extension": ".py",
   "mimetype": "text/x-python",
   "name": "python",
   "nbconvert_exporter": "python",
   "pygments_lexer": "ipython3",
   "version": "3.12.2"
  }
 },
 "nbformat": 4,
 "nbformat_minor": 2
}
