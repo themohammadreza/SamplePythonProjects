{
 "cells": [
  {
   "cell_type": "code",
   "execution_count": 1,
   "metadata": {},
   "outputs": [],
   "source": [
    "class BankAccount:\n",
    "    def __init__(self, owner, balance=0):\n",
    "        self.owner, self.__balance = owner, balance\n",
    "    \n",
    "    def variz(self, amount):\n",
    "        self.__balance += amount\n",
    "        print(f\"{amount} added to {self.owner} account!\")\n",
    "\n",
    "    def bardasht(self, amount):\n",
    "        if amount > self.__balance:\n",
    "            print(\"No enough money!\")\n",
    "        else:\n",
    "            self.__balance -= amount\n",
    "            print(f\"{amount} decrees from {self.owner} account!\")\n",
    "\n",
    "    def show_balance(self):\n",
    "        print(f\"The balance of {self.owner} account is {self.__balance}\")"
   ]
  },
  {
   "cell_type": "code",
   "execution_count": 2,
   "metadata": {},
   "outputs": [],
   "source": [
    "mmd_account = BankAccount(\"Mohammadreza\", 200)"
   ]
  },
  {
   "cell_type": "code",
   "execution_count": 3,
   "metadata": {},
   "outputs": [
    {
     "name": "stdout",
     "output_type": "stream",
     "text": [
      "The balance of Mohammadreza account is 200\n"
     ]
    }
   ],
   "source": [
    "mmd_account.show_balance()"
   ]
  },
  {
   "cell_type": "code",
   "execution_count": 4,
   "metadata": {},
   "outputs": [
    {
     "name": "stdout",
     "output_type": "stream",
     "text": [
      "500 added to Mohammadreza account!\n"
     ]
    }
   ],
   "source": [
    "mmd_account.variz(500)"
   ]
  },
  {
   "cell_type": "code",
   "execution_count": 5,
   "metadata": {},
   "outputs": [
    {
     "name": "stdout",
     "output_type": "stream",
     "text": [
      "The balance of Mohammadreza account is 700\n"
     ]
    }
   ],
   "source": [
    "mmd_account.show_balance()"
   ]
  },
  {
   "cell_type": "code",
   "execution_count": 6,
   "metadata": {},
   "outputs": [
    {
     "name": "stdout",
     "output_type": "stream",
     "text": [
      "150 decrees from Mohammadreza account!\n"
     ]
    }
   ],
   "source": [
    "mmd_account.bardasht(150)"
   ]
  },
  {
   "cell_type": "code",
   "execution_count": 7,
   "metadata": {},
   "outputs": [
    {
     "name": "stdout",
     "output_type": "stream",
     "text": [
      "The balance of Mohammadreza account is 550\n"
     ]
    }
   ],
   "source": [
    "mmd_account.show_balance()"
   ]
  },
  {
   "cell_type": "code",
   "execution_count": 8,
   "metadata": {},
   "outputs": [
    {
     "name": "stdout",
     "output_type": "stream",
     "text": [
      "The balance of Mohammadreza account is 550\n"
     ]
    }
   ],
   "source": [
    "mmd_account.show_balance()"
   ]
  },
  {
   "cell_type": "code",
   "execution_count": null,
   "metadata": {},
   "outputs": [],
   "source": []
  }
 ],
 "metadata": {
  "kernelspec": {
   "display_name": "projects",
   "language": "python",
   "name": "python3"
  },
  "language_info": {
   "codemirror_mode": {
    "name": "ipython",
    "version": 3
   },
   "file_extension": ".py",
   "mimetype": "text/x-python",
   "name": "python",
   "nbconvert_exporter": "python",
   "pygments_lexer": "ipython3",
   "version": "3.12.2"
  }
 },
 "nbformat": 4,
 "nbformat_minor": 2
}
